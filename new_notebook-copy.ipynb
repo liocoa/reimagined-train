{
  "nbformat": 4,
  "nbformat_minor": 0,
  "metadata": {
    "kernelspec": {
      "display_name": "Python 3",
      "language": "python",
      "name": "python3"
    },
    "language_info": {
      "codemirror_mode": {
        "name": "ipython",
        "version": 3
      },
      "file_extension": ".py",
      "mimetype": "text/x-python",
      "name": "python",
      "nbconvert_exporter": "python",
      "pygments_lexer": "ipython3",
      "version": "3.8.2"
    },
    "colab": {
      "name": "new_notebook.ipynb",
      "provenance": []
    }
  },
  "cells": [
    {
      "cell_type": "markdown",
      "metadata": {
        "id": "yOs4FgMOTWKf",
        "colab_type": "text"
      },
      "source": [
        "This is a notebook for exploring the use of notebooks with colab and github."
      ]
    },
    {
      "cell_type": "code",
      "metadata": {
        "id": "Cqsu2I5KTWKi",
        "colab_type": "code",
        "colab": {},
        "outputId": "0efb6f9e-fcd5-41e3-d576-4569483597af"
      },
      "source": [
        "# Here is some code\n",
        "a = [True, False]\n",
        "b = 2 * a\n",
        "print(b)"
      ],
      "execution_count": null,
      "outputs": [
        {
          "output_type": "stream",
          "text": [
            "[True, False, True, False]\n"
          ],
          "name": "stdout"
        }
      ]
    },
    {
      "cell_type": "markdown",
      "metadata": {
        "id": "ixvilqf0TWKv",
        "colab_type": "text"
      },
      "source": [
        "Well isn't that grand?"
      ]
    },
    {
      "cell_type": "markdown",
      "metadata": {
        "id": "KLyDBfbsUECe",
        "colab_type": "text"
      },
      "source": [
        "This is a code block that I added in colab. Let's see if it works!"
      ]
    }
  ]
}